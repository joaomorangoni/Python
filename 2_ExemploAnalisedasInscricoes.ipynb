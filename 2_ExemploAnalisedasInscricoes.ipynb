{
  "nbformat": 4,
  "nbformat_minor": 0,
  "metadata": {
    "colab": {
      "provenance": [],
      "include_colab_link": true
    },
    "kernelspec": {
      "name": "python3",
      "display_name": "Python 3"
    },
    "language_info": {
      "name": "python"
    }
  },
  "cells": [
    {
      "cell_type": "markdown",
      "metadata": {
        "id": "view-in-github",
        "colab_type": "text"
      },
      "source": [
        "<a href=\"https://colab.research.google.com/github/joaomorangoni/Python/blob/main/2_ExemploAnalisedasInscricoes.ipynb\" target=\"_parent\"><img src=\"https://colab.research.google.com/assets/colab-badge.svg\" alt=\"Open In Colab\"/></a>"
      ]
    },
    {
      "cell_type": "markdown",
      "metadata": {
        "id": "ZSzy8ouLxonn"
      },
      "source": [
        "# Análise de Dados Simples - Inscrições do Curso"
      ]
    },
    {
      "cell_type": "markdown",
      "metadata": {
        "id": "OFfO8EEtxbW7"
      },
      "source": [
        "### Após a Aula introdutória vamos ver como colher algumas informações Simples Usando Python"
      ]
    },
    {
      "cell_type": "code",
      "metadata": {
        "id": "ezwjLi32y6Ro"
      },
      "source": [
        "import pandas as pd #Biblioteca responsável para fazer a leitura e impressão de bases de dados"
      ],
      "execution_count": null,
      "outputs": []
    },
    {
      "cell_type": "markdown",
      "metadata": {
        "id": "wPeo6sh37hoo"
      },
      "source": [
        "### Veja neste link como armazenar uma planilha excel no Github para usar como base de dados no COLAB"
      ]
    },
    {
      "cell_type": "code",
      "metadata": {
        "id": "ld5_TWLAyLzC"
      },
      "source": [
        "url = 'https://github.com/profcintiapinho/laboratorio_ia/blob/main/respostasalunos.xlsx?raw=true' #pega o caminho do arquivo excel no github\n",
        "planilha = \"respostas\" #identifica a planilha que está os dados\n",
        "base = pd.read_excel(url,planilha) #pega o caminho e a planilha exata e armazena na variável"
      ],
      "execution_count": null,
      "outputs": []
    },
    {
      "cell_type": "code",
      "metadata": {
        "colab": {
          "base_uri": "https://localhost:8080/",
          "height": 423
        },
        "id": "KOzWZ0064PGX",
        "outputId": "94ecc9d9-b8eb-450d-8dec-256fee3b8eb7"
      },
      "source": [
        "base"
      ],
      "execution_count": null,
      "outputs": [
        {
          "output_type": "execute_result",
          "data": {
            "text/plain": [
              "                                  Turma interesse computador  \\\n",
              "0       Novo Tec - Administração(Tarde)     Noite        Sim   \n",
              "1                 Contabilidade - Noite     Tarde        Sim   \n",
              "2                 Contabilidade - Noite     Tarde        Sim   \n",
              "3   Novo Tec - Recursos Humanos (Manhã)     Noite        Sim   \n",
              "4                 Contabilidade - Noite     Tarde        Sim   \n",
              "..                                  ...       ...        ...   \n",
              "56                    Logistica - Noite     Tarde        não   \n",
              "57                    Logistica - Noite     Tarde        não   \n",
              "58       Novo Tec - Informática (Manhã)     Tarde        Sim   \n",
              "59       Novo Tec - Informática (Manhã)     Noite        Sim   \n",
              "60       Novo Tec - Informática (Manhã)     Noite        Sim   \n",
              "\n",
              "                                            motivacao  \n",
              "0   Quero estar mais liga e aprender muito mais  s...  \n",
              "1   conseguir automatizar alguns processos no meu ...  \n",
              "2   Obter um pouco de conhecimento nessa área, a q...  \n",
              "3   Porque o python é uma linguagens de programaçã...  \n",
              "4                 quero aprimorar meus conhecimentos   \n",
              "..                                                ...  \n",
              "56  Ter um curso extracurricular pra melhorar meu ...  \n",
              "57  Ter um curso extracurricular pra melhorar meu ...  \n",
              "58  Busca por conhecimentos que possam agregar na ...  \n",
              "59  Ampliar meus conhecimentos na área de informática  \n",
              "60  Adquirir mais conhecimentos na área. E ter um ...  \n",
              "\n",
              "[61 rows x 4 columns]"
            ],
            "text/html": [
              "\n",
              "\n",
              "  <div id=\"df-f5c7ff6d-9018-42d4-a5ed-10a4ab670c31\">\n",
              "    <div class=\"colab-df-container\">\n",
              "      <div>\n",
              "<style scoped>\n",
              "    .dataframe tbody tr th:only-of-type {\n",
              "        vertical-align: middle;\n",
              "    }\n",
              "\n",
              "    .dataframe tbody tr th {\n",
              "        vertical-align: top;\n",
              "    }\n",
              "\n",
              "    .dataframe thead th {\n",
              "        text-align: right;\n",
              "    }\n",
              "</style>\n",
              "<table border=\"1\" class=\"dataframe\">\n",
              "  <thead>\n",
              "    <tr style=\"text-align: right;\">\n",
              "      <th></th>\n",
              "      <th>Turma</th>\n",
              "      <th>interesse</th>\n",
              "      <th>computador</th>\n",
              "      <th>motivacao</th>\n",
              "    </tr>\n",
              "  </thead>\n",
              "  <tbody>\n",
              "    <tr>\n",
              "      <th>0</th>\n",
              "      <td>Novo Tec - Administração(Tarde)</td>\n",
              "      <td>Noite</td>\n",
              "      <td>Sim</td>\n",
              "      <td>Quero estar mais liga e aprender muito mais  s...</td>\n",
              "    </tr>\n",
              "    <tr>\n",
              "      <th>1</th>\n",
              "      <td>Contabilidade - Noite</td>\n",
              "      <td>Tarde</td>\n",
              "      <td>Sim</td>\n",
              "      <td>conseguir automatizar alguns processos no meu ...</td>\n",
              "    </tr>\n",
              "    <tr>\n",
              "      <th>2</th>\n",
              "      <td>Contabilidade - Noite</td>\n",
              "      <td>Tarde</td>\n",
              "      <td>Sim</td>\n",
              "      <td>Obter um pouco de conhecimento nessa área, a q...</td>\n",
              "    </tr>\n",
              "    <tr>\n",
              "      <th>3</th>\n",
              "      <td>Novo Tec - Recursos Humanos (Manhã)</td>\n",
              "      <td>Noite</td>\n",
              "      <td>Sim</td>\n",
              "      <td>Porque o python é uma linguagens de programaçã...</td>\n",
              "    </tr>\n",
              "    <tr>\n",
              "      <th>4</th>\n",
              "      <td>Contabilidade - Noite</td>\n",
              "      <td>Tarde</td>\n",
              "      <td>Sim</td>\n",
              "      <td>quero aprimorar meus conhecimentos</td>\n",
              "    </tr>\n",
              "    <tr>\n",
              "      <th>...</th>\n",
              "      <td>...</td>\n",
              "      <td>...</td>\n",
              "      <td>...</td>\n",
              "      <td>...</td>\n",
              "    </tr>\n",
              "    <tr>\n",
              "      <th>56</th>\n",
              "      <td>Logistica - Noite</td>\n",
              "      <td>Tarde</td>\n",
              "      <td>não</td>\n",
              "      <td>Ter um curso extracurricular pra melhorar meu ...</td>\n",
              "    </tr>\n",
              "    <tr>\n",
              "      <th>57</th>\n",
              "      <td>Logistica - Noite</td>\n",
              "      <td>Tarde</td>\n",
              "      <td>não</td>\n",
              "      <td>Ter um curso extracurricular pra melhorar meu ...</td>\n",
              "    </tr>\n",
              "    <tr>\n",
              "      <th>58</th>\n",
              "      <td>Novo Tec - Informática (Manhã)</td>\n",
              "      <td>Tarde</td>\n",
              "      <td>Sim</td>\n",
              "      <td>Busca por conhecimentos que possam agregar na ...</td>\n",
              "    </tr>\n",
              "    <tr>\n",
              "      <th>59</th>\n",
              "      <td>Novo Tec - Informática (Manhã)</td>\n",
              "      <td>Noite</td>\n",
              "      <td>Sim</td>\n",
              "      <td>Ampliar meus conhecimentos na área de informática</td>\n",
              "    </tr>\n",
              "    <tr>\n",
              "      <th>60</th>\n",
              "      <td>Novo Tec - Informática (Manhã)</td>\n",
              "      <td>Noite</td>\n",
              "      <td>Sim</td>\n",
              "      <td>Adquirir mais conhecimentos na área. E ter um ...</td>\n",
              "    </tr>\n",
              "  </tbody>\n",
              "</table>\n",
              "<p>61 rows × 4 columns</p>\n",
              "</div>\n",
              "      <button class=\"colab-df-convert\" onclick=\"convertToInteractive('df-f5c7ff6d-9018-42d4-a5ed-10a4ab670c31')\"\n",
              "              title=\"Convert this dataframe to an interactive table.\"\n",
              "              style=\"display:none;\">\n",
              "\n",
              "  <svg xmlns=\"http://www.w3.org/2000/svg\" height=\"24px\"viewBox=\"0 0 24 24\"\n",
              "       width=\"24px\">\n",
              "    <path d=\"M0 0h24v24H0V0z\" fill=\"none\"/>\n",
              "    <path d=\"M18.56 5.44l.94 2.06.94-2.06 2.06-.94-2.06-.94-.94-2.06-.94 2.06-2.06.94zm-11 1L8.5 8.5l.94-2.06 2.06-.94-2.06-.94L8.5 2.5l-.94 2.06-2.06.94zm10 10l.94 2.06.94-2.06 2.06-.94-2.06-.94-.94-2.06-.94 2.06-2.06.94z\"/><path d=\"M17.41 7.96l-1.37-1.37c-.4-.4-.92-.59-1.43-.59-.52 0-1.04.2-1.43.59L10.3 9.45l-7.72 7.72c-.78.78-.78 2.05 0 2.83L4 21.41c.39.39.9.59 1.41.59.51 0 1.02-.2 1.41-.59l7.78-7.78 2.81-2.81c.8-.78.8-2.07 0-2.86zM5.41 20L4 18.59l7.72-7.72 1.47 1.35L5.41 20z\"/>\n",
              "  </svg>\n",
              "      </button>\n",
              "\n",
              "\n",
              "\n",
              "    <div id=\"df-fb670a6d-ebcc-4390-9993-0b3fb2928f23\">\n",
              "      <button class=\"colab-df-quickchart\" onclick=\"quickchart('df-fb670a6d-ebcc-4390-9993-0b3fb2928f23')\"\n",
              "              title=\"Suggest charts.\"\n",
              "              style=\"display:none;\">\n",
              "\n",
              "<svg xmlns=\"http://www.w3.org/2000/svg\" height=\"24px\"viewBox=\"0 0 24 24\"\n",
              "     width=\"24px\">\n",
              "    <g>\n",
              "        <path d=\"M19 3H5c-1.1 0-2 .9-2 2v14c0 1.1.9 2 2 2h14c1.1 0 2-.9 2-2V5c0-1.1-.9-2-2-2zM9 17H7v-7h2v7zm4 0h-2V7h2v10zm4 0h-2v-4h2v4z\"/>\n",
              "    </g>\n",
              "</svg>\n",
              "      </button>\n",
              "    </div>\n",
              "\n",
              "<style>\n",
              "  .colab-df-quickchart {\n",
              "    background-color: #E8F0FE;\n",
              "    border: none;\n",
              "    border-radius: 50%;\n",
              "    cursor: pointer;\n",
              "    display: none;\n",
              "    fill: #1967D2;\n",
              "    height: 32px;\n",
              "    padding: 0 0 0 0;\n",
              "    width: 32px;\n",
              "  }\n",
              "\n",
              "  .colab-df-quickchart:hover {\n",
              "    background-color: #E2EBFA;\n",
              "    box-shadow: 0px 1px 2px rgba(60, 64, 67, 0.3), 0px 1px 3px 1px rgba(60, 64, 67, 0.15);\n",
              "    fill: #174EA6;\n",
              "  }\n",
              "\n",
              "  [theme=dark] .colab-df-quickchart {\n",
              "    background-color: #3B4455;\n",
              "    fill: #D2E3FC;\n",
              "  }\n",
              "\n",
              "  [theme=dark] .colab-df-quickchart:hover {\n",
              "    background-color: #434B5C;\n",
              "    box-shadow: 0px 1px 3px 1px rgba(0, 0, 0, 0.15);\n",
              "    filter: drop-shadow(0px 1px 2px rgba(0, 0, 0, 0.3));\n",
              "    fill: #FFFFFF;\n",
              "  }\n",
              "</style>\n",
              "\n",
              "    <script>\n",
              "      async function quickchart(key) {\n",
              "        const containerElement = document.querySelector('#' + key);\n",
              "        const charts = await google.colab.kernel.invokeFunction(\n",
              "            'suggestCharts', [key], {});\n",
              "      }\n",
              "    </script>\n",
              "\n",
              "\n",
              "      <script>\n",
              "\n",
              "function displayQuickchartButton(domScope) {\n",
              "  let quickchartButtonEl =\n",
              "    domScope.querySelector('#df-fb670a6d-ebcc-4390-9993-0b3fb2928f23 button.colab-df-quickchart');\n",
              "  quickchartButtonEl.style.display =\n",
              "    google.colab.kernel.accessAllowed ? 'block' : 'none';\n",
              "}\n",
              "\n",
              "        displayQuickchartButton(document);\n",
              "      </script>\n",
              "      <style>\n",
              "    .colab-df-container {\n",
              "      display:flex;\n",
              "      flex-wrap:wrap;\n",
              "      gap: 12px;\n",
              "    }\n",
              "\n",
              "    .colab-df-convert {\n",
              "      background-color: #E8F0FE;\n",
              "      border: none;\n",
              "      border-radius: 50%;\n",
              "      cursor: pointer;\n",
              "      display: none;\n",
              "      fill: #1967D2;\n",
              "      height: 32px;\n",
              "      padding: 0 0 0 0;\n",
              "      width: 32px;\n",
              "    }\n",
              "\n",
              "    .colab-df-convert:hover {\n",
              "      background-color: #E2EBFA;\n",
              "      box-shadow: 0px 1px 2px rgba(60, 64, 67, 0.3), 0px 1px 3px 1px rgba(60, 64, 67, 0.15);\n",
              "      fill: #174EA6;\n",
              "    }\n",
              "\n",
              "    [theme=dark] .colab-df-convert {\n",
              "      background-color: #3B4455;\n",
              "      fill: #D2E3FC;\n",
              "    }\n",
              "\n",
              "    [theme=dark] .colab-df-convert:hover {\n",
              "      background-color: #434B5C;\n",
              "      box-shadow: 0px 1px 3px 1px rgba(0, 0, 0, 0.15);\n",
              "      filter: drop-shadow(0px 1px 2px rgba(0, 0, 0, 0.3));\n",
              "      fill: #FFFFFF;\n",
              "    }\n",
              "  </style>\n",
              "\n",
              "      <script>\n",
              "        const buttonEl =\n",
              "          document.querySelector('#df-f5c7ff6d-9018-42d4-a5ed-10a4ab670c31 button.colab-df-convert');\n",
              "        buttonEl.style.display =\n",
              "          google.colab.kernel.accessAllowed ? 'block' : 'none';\n",
              "\n",
              "        async function convertToInteractive(key) {\n",
              "          const element = document.querySelector('#df-f5c7ff6d-9018-42d4-a5ed-10a4ab670c31');\n",
              "          const dataTable =\n",
              "            await google.colab.kernel.invokeFunction('convertToInteractive',\n",
              "                                                     [key], {});\n",
              "          if (!dataTable) return;\n",
              "\n",
              "          const docLinkHtml = 'Like what you see? Visit the ' +\n",
              "            '<a target=\"_blank\" href=https://colab.research.google.com/notebooks/data_table.ipynb>data table notebook</a>'\n",
              "            + ' to learn more about interactive tables.';\n",
              "          element.innerHTML = '';\n",
              "          dataTable['output_type'] = 'display_data';\n",
              "          await google.colab.output.renderOutput(dataTable, element);\n",
              "          const docLink = document.createElement('div');\n",
              "          docLink.innerHTML = docLinkHtml;\n",
              "          element.appendChild(docLink);\n",
              "        }\n",
              "      </script>\n",
              "    </div>\n",
              "  </div>\n"
            ]
          },
          "metadata": {},
          "execution_count": 4
        }
      ]
    },
    {
      "cell_type": "code",
      "metadata": {
        "id": "WGZ5M8Go72aS"
      },
      "source": [
        "import matplotlib.pyplot as plt #biblioteca para gerar gráficos\n",
        "import seaborn as sns #biblioteca para visualizar gráficos"
      ],
      "execution_count": null,
      "outputs": []
    },
    {
      "cell_type": "code",
      "metadata": {
        "colab": {
          "base_uri": "https://localhost:8080/",
          "height": 511
        },
        "id": "oZeU5mB58CKI",
        "outputId": "ebfdabae-c511-4245-bc96-b80bcfef01e3"
      },
      "source": [
        "plt.subplots(figsize=(25, 10))\n",
        "plt.title(\"curso dos alunos\")\n",
        "sns.countplot(x = base.Turma);"
      ],
      "execution_count": null,
      "outputs": [
        {
          "output_type": "display_data",
          "data": {
            "text/plain": [
              "<Figure size 2500x1000 with 1 Axes>"
            ],
            "image/png": "[encoded data removed]"
          },
          "metadata": {}
        }
      ]
    },
    {
      "cell_type": "code",
      "metadata": {
        "id": "1Eo_SdnABzp1"
      },
      "source": [
        "import seaborn as sns\n",
        "import matplotlib.pyplot as plt\n",
        "sns.countplot(base['computador'], color='#00BFFF');\n",
        "plt.title('Alunos possuem computadores?')"
      ],
      "execution_count": null,
      "outputs": []
    },
    {
      "cell_type": "code",
      "metadata": {
        "colab": {
          "base_uri": "https://localhost:8080/"
        },
        "id": "2y8NU1JjJQ2s",
        "outputId": "3bea26d9-c01c-4949-a750-e3dcb374c9bb"
      },
      "source": [
        "base['computador'].value_counts()"
      ],
      "execution_count": null,
      "outputs": [
        {
          "output_type": "execute_result",
          "data": {
            "text/plain": [
              "Sim    59\n",
              "não     2\n",
              "Name: computador, dtype: int64"
            ]
          },
          "metadata": {},
          "execution_count": 27
        }
      ]
    },
    {
      "cell_type": "code",
      "metadata": {
        "id": "q5DiPvBpJlL-"
      },
      "source": [
        "tarde = base.interesse.value_counts()['Tarde']\n",
        "noite = base.interesse.value_counts()['Noite']"
      ],
      "execution_count": null,
      "outputs": []
    },
    {
      "cell_type": "code",
      "metadata": {
        "id": "TB9Bmov6L1hg"
      },
      "source": [
        "x = [\"Tarde\", \"Noite\"]\n",
        "y = [tarde, noite]"
      ],
      "execution_count": null,
      "outputs": []
    },
    {
      "cell_type": "code",
      "metadata": {
        "colab": {
          "base_uri": "https://localhost:8080/",
          "height": 452
        },
        "id": "A3wi-XthMExJ",
        "outputId": "896ac773-12e9-4c46-dc7f-b00dcaf2b61f"
      },
      "source": [
        "plt.barh(x, y)\n",
        "plt.yticks(rotation=75)\n",
        "plt.title('Período do Curso')\n",
        "plt.show()"
      ],
      "execution_count": null,
      "outputs": [
        {
          "output_type": "display_data",
          "data": {
            "text/plain": [
              "<Figure size 640x480 with 1 Axes>"
            ],
            "image/png": "[encoded data removed]"
          },
          "metadata": {}
        }
      ]
    },
    {
      "cell_type": "code",
      "metadata": {
        "colab": {
          "base_uri": "https://localhost:8080/",
          "height": 248
        },
        "id": "0zrHmxhoMqCd",
        "outputId": "2ce1f1d7-fbf9-4e96-9cba-9b6e93053857"
      },
      "source": [
        "cores = ['#4169E1','#00BFFF','#00008B']\n",
        "plt.pie(y, labels=x, autopct='%1.1f%%', colors = cores)\n",
        "plt.show()"
      ],
      "execution_count": null,
      "outputs": [
        {
          "output_type": "display_data",
          "data": {
            "image/png": "[encoded data removed]",
            "text/plain": [
              "<Figure size 432x288 with 1 Axes>"
            ]
          },
          "metadata": {}
        }
      ]
    },
    {
      "cell_type": "code",
      "metadata": {
        "id": "QR1yqSXGRONH"
      },
      "source": [
        "import spacy\n",
        "import re"
      ],
      "execution_count": null,
      "outputs": []
    },
    {
      "cell_type": "code",
      "metadata": {
        "colab": {
          "base_uri": "https://localhost:8080/"
        },
        "id": "DfnwTrsDRen1",
        "outputId": "05b46d8a-b358-49c3-e622-a603936576be"
      },
      "source": [
        "!python -m spacy download pt_core_news_sm"
      ],
      "execution_count": null,
      "outputs": [
        {
          "output_type": "stream",
          "name": "stdout",
          "text": [
            "2023-09-01 11:00:19.462907: W tensorflow/compiler/tf2tensorrt/utils/py_utils.cc:38] TF-TRT Warning: Could not find TensorRT\n",
            "Collecting pt-core-news-sm==3.6.0\n",
            "  Downloading https://github.com/explosion/spacy-models/releases/download/pt_core_news_sm-3.6.0/pt_core_news_sm-3.6.0-py3-none-any.whl (13.0 MB)\n",
            "\u001b[2K     \u001b[90m━━━━━━━━━━━━━━━━━━━━━━━━━━━━━━━━━━━━━━━━\u001b[0m \u001b[32m13.0/13.0 MB\u001b[0m \u001b[31m50.3 MB/s\u001b[0m eta \u001b[36m0:00:00\u001b[0m\n",
            "\u001b[?25hRequirement already satisfied: spacy<3.7.0,>=3.6.0 in /usr/local/lib/python3.10/dist-packages (from pt-core-news-sm==3.6.0) (3.6.1)\n",
            "Requirement already satisfied: spacy-legacy<3.1.0,>=3.0.11 in /usr/local/lib/python3.10/dist-packages (from spacy<3.7.0,>=3.6.0->pt-core-news-sm==3.6.0) (3.0.12)\n",
            "Requirement already satisfied: spacy-loggers<2.0.0,>=1.0.0 in /usr/local/lib/python3.10/dist-packages (from spacy<3.7.0,>=3.6.0->pt-core-news-sm==3.6.0) (1.0.4)\n",
            "Requirement already satisfied: murmurhash<1.1.0,>=0.28.0 in /usr/local/lib/python3.10/dist-packages (from spacy<3.7.0,>=3.6.0->pt-core-news-sm==3.6.0) (1.0.9)\n",
            "Requirement already satisfied: cymem<2.1.0,>=2.0.2 in /usr/local/lib/python3.10/dist-packages (from spacy<3.7.0,>=3.6.0->pt-core-news-sm==3.6.0) (2.0.7)\n",
            "Requirement already satisfied: preshed<3.1.0,>=3.0.2 in /usr/local/lib/python3.10/dist-packages (from spacy<3.7.0,>=3.6.0->pt-core-news-sm==3.6.0) (3.0.8)\n",
            "Requirement already satisfied: thinc<8.2.0,>=8.1.8 in /usr/local/lib/python3.10/dist-packages (from spacy<3.7.0,>=3.6.0->pt-core-news-sm==3.6.0) (8.1.12)\n",
            "Requirement already satisfied: wasabi<1.2.0,>=0.9.1 in /usr/local/lib/python3.10/dist-packages (from spacy<3.7.0,>=3.6.0->pt-core-news-sm==3.6.0) (1.1.2)\n",
            "Requirement already satisfied: srsly<3.0.0,>=2.4.3 in /usr/local/lib/python3.10/dist-packages (from spacy<3.7.0,>=3.6.0->pt-core-news-sm==3.6.0) (2.4.7)\n",
            "Requirement already satisfied: catalogue<2.1.0,>=2.0.6 in /usr/local/lib/python3.10/dist-packages (from spacy<3.7.0,>=3.6.0->pt-core-news-sm==3.6.0) (2.0.9)\n",
            "Requirement already satisfied: typer<0.10.0,>=0.3.0 in /usr/local/lib/python3.10/dist-packages (from spacy<3.7.0,>=3.6.0->pt-core-news-sm==3.6.0) (0.9.0)\n",
            "Requirement already satisfied: pathy>=0.10.0 in /usr/local/lib/python3.10/dist-packages (from spacy<3.7.0,>=3.6.0->pt-core-news-sm==3.6.0) (0.10.2)\n",
            "Requirement already satisfied: smart-open<7.0.0,>=5.2.1 in /usr/local/lib/python3.10/dist-packages (from spacy<3.7.0,>=3.6.0->pt-core-news-sm==3.6.0) (6.3.0)\n",
            "Requirement already satisfied: tqdm<5.0.0,>=4.38.0 in /usr/local/lib/python3.10/dist-packages (from spacy<3.7.0,>=3.6.0->pt-core-news-sm==3.6.0) (4.66.1)\n",
            "Requirement already satisfied: numpy>=1.15.0 in /usr/local/lib/python3.10/dist-packages (from spacy<3.7.0,>=3.6.0->pt-core-news-sm==3.6.0) (1.23.5)\n",
            "Requirement already satisfied: requests<3.0.0,>=2.13.0 in /usr/local/lib/python3.10/dist-packages (from spacy<3.7.0,>=3.6.0->pt-core-news-sm==3.6.0) (2.31.0)\n",
            "Requirement already satisfied: pydantic!=1.8,!=1.8.1,<3.0.0,>=1.7.4 in /usr/local/lib/python3.10/dist-packages (from spacy<3.7.0,>=3.6.0->pt-core-news-sm==3.6.0) (2.2.1)\n",
            "Requirement already satisfied: jinja2 in /usr/local/lib/python3.10/dist-packages (from spacy<3.7.0,>=3.6.0->pt-core-news-sm==3.6.0) (3.1.2)\n",
            "Requirement already satisfied: setuptools in /usr/local/lib/python3.10/dist-packages (from spacy<3.7.0,>=3.6.0->pt-core-news-sm==3.6.0) (67.7.2)\n",
            "Requirement already satisfied: packaging>=20.0 in /usr/local/lib/python3.10/dist-packages (from spacy<3.7.0,>=3.6.0->pt-core-news-sm==3.6.0) (23.1)\n",
            "Requirement already satisfied: langcodes<4.0.0,>=3.2.0 in /usr/local/lib/python3.10/dist-packages (from spacy<3.7.0,>=3.6.0->pt-core-news-sm==3.6.0) (3.3.0)\n",
            "Requirement already satisfied: annotated-types>=0.4.0 in /usr/local/lib/python3.10/dist-packages (from pydantic!=1.8,!=1.8.1,<3.0.0,>=1.7.4->spacy<3.7.0,>=3.6.0->pt-core-news-sm==3.6.0) (0.5.0)\n",
            "Requirement already satisfied: pydantic-core==2.6.1 in /usr/local/lib/python3.10/dist-packages (from pydantic!=1.8,!=1.8.1,<3.0.0,>=1.7.4->spacy<3.7.0,>=3.6.0->pt-core-news-sm==3.6.0) (2.6.1)\n",
            "Requirement already satisfied: typing-extensions>=4.6.1 in /usr/local/lib/python3.10/dist-packages (from pydantic!=1.8,!=1.8.1,<3.0.0,>=1.7.4->spacy<3.7.0,>=3.6.0->pt-core-news-sm==3.6.0) (4.7.1)\n",
            "Requirement already satisfied: charset-normalizer<4,>=2 in /usr/local/lib/python3.10/dist-packages (from requests<3.0.0,>=2.13.0->spacy<3.7.0,>=3.6.0->pt-core-news-sm==3.6.0) (3.2.0)\n",
            "Requirement already satisfied: idna<4,>=2.5 in /usr/local/lib/python3.10/dist-packages (from requests<3.0.0,>=2.13.0->spacy<3.7.0,>=3.6.0->pt-core-news-sm==3.6.0) (3.4)\n",
            "Requirement already satisfied: urllib3<3,>=1.21.1 in /usr/local/lib/python3.10/dist-packages (from requests<3.0.0,>=2.13.0->spacy<3.7.0,>=3.6.0->pt-core-news-sm==3.6.0) (2.0.4)\n",
            "Requirement already satisfied: certifi>=2017.4.17 in /usr/local/lib/python3.10/dist-packages (from requests<3.0.0,>=2.13.0->spacy<3.7.0,>=3.6.0->pt-core-news-sm==3.6.0) (2023.7.22)\n",
            "Requirement already satisfied: blis<0.8.0,>=0.7.8 in /usr/local/lib/python3.10/dist-packages (from thinc<8.2.0,>=8.1.8->spacy<3.7.0,>=3.6.0->pt-core-news-sm==3.6.0) (0.7.10)\n",
            "Requirement already satisfied: confection<1.0.0,>=0.0.1 in /usr/local/lib/python3.10/dist-packages (from thinc<8.2.0,>=8.1.8->spacy<3.7.0,>=3.6.0->pt-core-news-sm==3.6.0) (0.1.1)\n",
            "Requirement already satisfied: click<9.0.0,>=7.1.1 in /usr/local/lib/python3.10/dist-packages (from typer<0.10.0,>=0.3.0->spacy<3.7.0,>=3.6.0->pt-core-news-sm==3.6.0) (8.1.7)\n",
            "Requirement already satisfied: MarkupSafe>=2.0 in /usr/local/lib/python3.10/dist-packages (from jinja2->spacy<3.7.0,>=3.6.0->pt-core-news-sm==3.6.0) (2.1.3)\n",
            "Installing collected packages: pt-core-news-sm\n",
            "Successfully installed pt-core-news-sm-3.6.0\n",
            "\u001b[38;5;2m✔ Download and installation successful\u001b[0m\n",
            "You can now load the package via spacy.load('pt_core_news_sm')\n"
          ]
        }
      ]
    },
    {
      "cell_type": "code",
      "metadata": {
        "id": "F3EkS9hSRp3V"
      },
      "source": [
        "pln = spacy.load('pt_core_news_sm')"
      ],
      "execution_count": null,
      "outputs": []
    },
    {
      "cell_type": "code",
      "source": [
        "stop_words"
      ],
      "metadata": {
        "colab": {
          "base_uri": "https://localhost:8080/"
        },
        "id": "SchS51hda6bN",
        "outputId": "c31d40d7-0bd2-450d-a2d4-20e7a7f8f3d0"
      },
      "execution_count": null,
      "outputs": [
        {
          "output_type": "execute_result",
          "data": {
            "text/plain": [
              "{'a',\n",
              " 'acerca',\n",
              " 'ademais',\n",
              " 'adeus',\n",
              " 'agora',\n",
              " 'ainda',\n",
              " 'algo',\n",
              " 'algumas',\n",
              " 'alguns',\n",
              " 'ali',\n",
              " 'além',\n",
              " 'ambas',\n",
              " 'ambos',\n",
              " 'antes',\n",
              " 'ao',\n",
              " 'aos',\n",
              " 'apenas',\n",
              " 'apoia',\n",
              " 'apoio',\n",
              " 'apontar',\n",
              " 'após',\n",
              " 'aquela',\n",
              " 'aquelas',\n",
              " 'aquele',\n",
              " 'aqueles',\n",
              " 'aqui',\n",
              " 'aquilo',\n",
              " 'as',\n",
              " 'assim',\n",
              " 'através',\n",
              " 'atrás',\n",
              " 'até',\n",
              " 'aí',\n",
              " 'baixo',\n",
              " 'bastante',\n",
              " 'bem',\n",
              " 'boa',\n",
              " 'bom',\n",
              " 'breve',\n",
              " 'cada',\n",
              " 'caminho',\n",
              " 'catorze',\n",
              " 'cedo',\n",
              " 'cento',\n",
              " 'certamente',\n",
              " 'certeza',\n",
              " 'cima',\n",
              " 'cinco',\n",
              " 'coisa',\n",
              " 'com',\n",
              " 'como',\n",
              " 'comprida',\n",
              " 'comprido',\n",
              " 'conhecida',\n",
              " 'conhecido',\n",
              " 'conselho',\n",
              " 'contra',\n",
              " 'contudo',\n",
              " 'corrente',\n",
              " 'cuja',\n",
              " 'cujo',\n",
              " 'custa',\n",
              " 'cá',\n",
              " 'da',\n",
              " 'daquela',\n",
              " 'daquele',\n",
              " 'dar',\n",
              " 'das',\n",
              " 'de',\n",
              " 'debaixo',\n",
              " 'demais',\n",
              " 'dentro',\n",
              " 'depois',\n",
              " 'des',\n",
              " 'desde',\n",
              " 'dessa',\n",
              " 'desse',\n",
              " 'desta',\n",
              " 'deste',\n",
              " 'deve',\n",
              " 'devem',\n",
              " 'deverá',\n",
              " 'dez',\n",
              " 'dezanove',\n",
              " 'dezasseis',\n",
              " 'dezassete',\n",
              " 'dezoito',\n",
              " 'diante',\n",
              " 'direita',\n",
              " 'disso',\n",
              " 'diz',\n",
              " 'dizem',\n",
              " 'dizer',\n",
              " 'do',\n",
              " 'dois',\n",
              " 'dos',\n",
              " 'doze',\n",
              " 'duas',\n",
              " 'dá',\n",
              " 'dão',\n",
              " 'e',\n",
              " 'ela',\n",
              " 'elas',\n",
              " 'ele',\n",
              " 'eles',\n",
              " 'em',\n",
              " 'embora',\n",
              " 'enquanto',\n",
              " 'entre',\n",
              " 'então',\n",
              " 'era',\n",
              " 'essa',\n",
              " 'essas',\n",
              " 'esse',\n",
              " 'esses',\n",
              " 'esta',\n",
              " 'estado',\n",
              " 'estar',\n",
              " 'estará',\n",
              " 'estas',\n",
              " 'estava',\n",
              " 'este',\n",
              " 'estes',\n",
              " 'esteve',\n",
              " 'estive',\n",
              " 'estivemos',\n",
              " 'estiveram',\n",
              " 'estiveste',\n",
              " 'estivestes',\n",
              " 'estou',\n",
              " 'está',\n",
              " 'estás',\n",
              " 'estão',\n",
              " 'eu',\n",
              " 'eventual',\n",
              " 'exemplo',\n",
              " 'falta',\n",
              " 'fará',\n",
              " 'favor',\n",
              " 'faz',\n",
              " 'fazeis',\n",
              " 'fazem',\n",
              " 'fazemos',\n",
              " 'fazer',\n",
              " 'fazes',\n",
              " 'fazia',\n",
              " 'faço',\n",
              " 'fez',\n",
              " 'fim',\n",
              " 'final',\n",
              " 'foi',\n",
              " 'fomos',\n",
              " 'for',\n",
              " 'fora',\n",
              " 'foram',\n",
              " 'forma',\n",
              " 'foste',\n",
              " 'fostes',\n",
              " 'fui',\n",
              " 'geral',\n",
              " 'grande',\n",
              " 'grandes',\n",
              " 'grupo',\n",
              " 'inclusive',\n",
              " 'iniciar',\n",
              " 'inicio',\n",
              " 'ir',\n",
              " 'irá',\n",
              " 'isso',\n",
              " 'isto',\n",
              " 'já',\n",
              " 'lado',\n",
              " 'lhe',\n",
              " 'ligado',\n",
              " 'local',\n",
              " 'logo',\n",
              " 'longe',\n",
              " 'lugar',\n",
              " 'lá',\n",
              " 'maior',\n",
              " 'maioria',\n",
              " 'maiorias',\n",
              " 'mais',\n",
              " 'mal',\n",
              " 'mas',\n",
              " 'me',\n",
              " 'meio',\n",
              " 'menor',\n",
              " 'menos',\n",
              " 'meses',\n",
              " 'mesmo',\n",
              " 'meu',\n",
              " 'meus',\n",
              " 'mil',\n",
              " 'minha',\n",
              " 'minhas',\n",
              " 'momento',\n",
              " 'muito',\n",
              " 'muitos',\n",
              " 'máximo',\n",
              " 'mês',\n",
              " 'na',\n",
              " 'nada',\n",
              " 'naquela',\n",
              " 'naquele',\n",
              " 'nas',\n",
              " 'nem',\n",
              " 'nenhuma',\n",
              " 'nessa',\n",
              " 'nesse',\n",
              " 'nesta',\n",
              " 'neste',\n",
              " 'no',\n",
              " 'nos',\n",
              " 'nossa',\n",
              " 'nossas',\n",
              " 'nosso',\n",
              " 'nossos',\n",
              " 'nova',\n",
              " 'novas',\n",
              " 'nove',\n",
              " 'novo',\n",
              " 'novos',\n",
              " 'num',\n",
              " 'numa',\n",
              " 'nunca',\n",
              " 'nuns',\n",
              " 'não',\n",
              " 'nível',\n",
              " 'nós',\n",
              " 'número',\n",
              " 'números',\n",
              " 'o',\n",
              " 'obrigada',\n",
              " 'obrigado',\n",
              " 'oitava',\n",
              " 'oitavo',\n",
              " 'oito',\n",
              " 'onde',\n",
              " 'ontem',\n",
              " 'onze',\n",
              " 'ora',\n",
              " 'os',\n",
              " 'ou',\n",
              " 'outra',\n",
              " 'outras',\n",
              " 'outros',\n",
              " 'para',\n",
              " 'parece',\n",
              " 'parte',\n",
              " 'partir',\n",
              " 'pegar',\n",
              " 'pela',\n",
              " 'pelas',\n",
              " 'pelo',\n",
              " 'pelos',\n",
              " 'perto',\n",
              " 'pode',\n",
              " 'podem',\n",
              " 'poder',\n",
              " 'poderá',\n",
              " 'podia',\n",
              " 'pois',\n",
              " 'ponto',\n",
              " 'pontos',\n",
              " 'por',\n",
              " 'porquanto',\n",
              " 'porque',\n",
              " 'porquê',\n",
              " 'portanto',\n",
              " 'porém',\n",
              " 'posição',\n",
              " 'possivelmente',\n",
              " 'posso',\n",
              " 'possível',\n",
              " 'pouca',\n",
              " 'pouco',\n",
              " 'povo',\n",
              " 'primeira',\n",
              " 'primeiro',\n",
              " 'próprio',\n",
              " 'próxima',\n",
              " 'próximo',\n",
              " 'puderam',\n",
              " 'pôde',\n",
              " 'põe',\n",
              " 'põem',\n",
              " 'quais',\n",
              " 'qual',\n",
              " 'qualquer',\n",
              " 'quando',\n",
              " 'quanto',\n",
              " 'quarta',\n",
              " 'quarto',\n",
              " 'quatro',\n",
              " 'que',\n",
              " 'quem',\n",
              " 'quer',\n",
              " 'querem',\n",
              " 'quero',\n",
              " 'questão',\n",
              " 'quieta',\n",
              " 'quieto',\n",
              " 'quinta',\n",
              " 'quinto',\n",
              " 'quinze',\n",
              " 'quê',\n",
              " 'relação',\n",
              " 'sabe',\n",
              " 'saber',\n",
              " 'se',\n",
              " 'segunda',\n",
              " 'segundo',\n",
              " 'sei',\n",
              " 'seis',\n",
              " 'sem',\n",
              " 'sempre',\n",
              " 'ser',\n",
              " 'seria',\n",
              " 'sete',\n",
              " 'seu',\n",
              " 'seus',\n",
              " 'sexta',\n",
              " 'sexto',\n",
              " 'sim',\n",
              " 'sistema',\n",
              " 'sob',\n",
              " 'sobre',\n",
              " 'sois',\n",
              " 'somente',\n",
              " 'somos',\n",
              " 'sou',\n",
              " 'sua',\n",
              " 'suas',\n",
              " 'são',\n",
              " 'sétima',\n",
              " 'sétimo',\n",
              " 'só',\n",
              " 'tais',\n",
              " 'tal',\n",
              " 'talvez',\n",
              " 'também',\n",
              " 'tanta',\n",
              " 'tanto',\n",
              " 'tarde',\n",
              " 'te',\n",
              " 'tem',\n",
              " 'temos',\n",
              " 'tempo',\n",
              " 'tendes',\n",
              " 'tenho',\n",
              " 'tens',\n",
              " 'tentar',\n",
              " 'tentaram',\n",
              " 'tente',\n",
              " 'tentei',\n",
              " 'ter',\n",
              " 'terceira',\n",
              " 'terceiro',\n",
              " 'teu',\n",
              " 'teus',\n",
              " 'teve',\n",
              " 'tipo',\n",
              " 'tive',\n",
              " 'tivemos',\n",
              " 'tiveram',\n",
              " 'tiveste',\n",
              " 'tivestes',\n",
              " 'toda',\n",
              " 'todas',\n",
              " 'todo',\n",
              " 'todos',\n",
              " 'treze',\n",
              " 'três',\n",
              " 'tu',\n",
              " 'tua',\n",
              " 'tuas',\n",
              " 'tudo',\n",
              " 'tão',\n",
              " 'têm',\n",
              " 'um',\n",
              " 'uma',\n",
              " 'umas',\n",
              " 'uns',\n",
              " 'usa',\n",
              " 'usar',\n",
              " 'vai',\n",
              " 'vais',\n",
              " 'valor',\n",
              " 'veja',\n",
              " 'vem',\n",
              " 'vens',\n",
              " 'ver',\n",
              " 'vez',\n",
              " 'vezes',\n",
              " 'vinda',\n",
              " 'vindo',\n",
              " 'vinte',\n",
              " 'você',\n",
              " 'vocês',\n",
              " 'vos',\n",
              " 'vossa',\n",
              " 'vossas',\n",
              " 'vosso',\n",
              " 'vossos',\n",
              " 'vários',\n",
              " 'vão',\n",
              " 'vêm',\n",
              " 'vós',\n",
              " 'zero',\n",
              " 'à',\n",
              " 'às',\n",
              " 'área',\n",
              " 'é',\n",
              " 'és',\n",
              " 'último'}"
            ]
          },
          "metadata": {},
          "execution_count": 17
        }
      ]
    },
    {
      "cell_type": "code",
      "metadata": {
        "id": "bxWWxz_TRsDv"
      },
      "source": [
        "from spacy.lang.pt.stop_words import STOP_WORDS\n",
        "stop_words = STOP_WORDS"
      ],
      "execution_count": null,
      "outputs": []
    },
    {
      "cell_type": "code",
      "source": [
        "#Conta a quantidade de palavras\n",
        "len(stop_words)"
      ],
      "metadata": {
        "colab": {
          "base_uri": "https://localhost:8080/"
        },
        "id": "Ma6PG1REap83",
        "outputId": "632ac6ec-cff9-48c8-9d73-75b66ce96aa3"
      },
      "execution_count": null,
      "outputs": [
        {
          "output_type": "execute_result",
          "data": {
            "text/plain": [
              "416"
            ]
          },
          "metadata": {},
          "execution_count": 16
        }
      ]
    },
    {
      "cell_type": "code",
      "metadata": {
        "colab": {
          "base_uri": "https://localhost:8080/",
          "height": 35
        },
        "id": "3y5jUU3hR4jK",
        "outputId": "08921961-37d5-43cc-b7b4-71b2b178a577"
      },
      "source": [
        "import string\n",
        "pontuacoes = string.punctuation\n",
        "pontuacoes"
      ],
      "execution_count": null,
      "outputs": [
        {
          "output_type": "execute_result",
          "data": {
            "text/plain": [
              "'!\"#$%&\\'()*+,-./:;<=>?@[\\\\]^_`{|}~'"
            ],
            "application/vnd.google.colaboratory.intrinsic+json": {
              "type": "string"
            }
          },
          "metadata": {},
          "execution_count": 12
        }
      ]
    },
    {
      "cell_type": "code",
      "metadata": {
        "id": "LRsBeJPZR6Vt"
      },
      "source": [
        "def preprocessamento(text):\n",
        "    result = []\n",
        "    pos_tag = ['ADJ', 'NOUN', 'VERB', 'PROPN'] # escolhendo apenas adjetivos, substantivos e verbos , 'VERB'\n",
        "    texto = re.sub(u'[^a-zA-Z0-9áéíóúÁÉÍÓÚâêîôÂÊÎÔãõÃÕçÇ: ]', '', text )\n",
        "    doc = pln(texto.lower()) # Transformando em minúsculo\n",
        "    for token in doc:\n",
        "        # 3\n",
        "        if(token.text in stop_words or token.text in pontuacoes):\n",
        "            continue\n",
        "        # 4\n",
        "        if(token.pos_ in pos_tag):\n",
        "            result.append(token.text)\n",
        "\n",
        "        texto = ' '.join([str(elemento) for elemento in result if not elemento.isdigit()])\n",
        "\n",
        "\n",
        "    #return result # 5\n",
        "    return texto # 5"
      ],
      "execution_count": null,
      "outputs": []
    },
    {
      "cell_type": "code",
      "metadata": {
        "id": "PuhzLrdZSHRX",
        "colab": {
          "base_uri": "https://localhost:8080/",
          "height": 193
        },
        "outputId": "87cce376-c9d1-4328-e324-52bd9db1007f"
      },
      "source": [
        "base.motivacao=base.motivacao.astype(str)\n",
        "base['limpa'] = base['motivacao'].apply(preprocessamento)"
      ],
      "execution_count": null,
      "outputs": [
        {
          "output_type": "error",
          "ename": "NameError",
          "evalue": "ignored",
          "traceback": [
            "\u001b[0;31m---------------------------------------------------------------------------\u001b[0m",
            "\u001b[0;31mNameError\u001b[0m                                 Traceback (most recent call last)",
            "\u001b[0;32m<ipython-input-15-7346e158b60e>\u001b[0m in \u001b[0;36m<cell line: 1>\u001b[0;34m()\u001b[0m\n\u001b[0;32m----> 1\u001b[0;31m \u001b[0mbase\u001b[0m\u001b[0;34m.\u001b[0m\u001b[0mmotivacao\u001b[0m\u001b[0;34m=\u001b[0m\u001b[0mbase\u001b[0m\u001b[0;34m.\u001b[0m\u001b[0mmotivacao\u001b[0m\u001b[0;34m.\u001b[0m\u001b[0mastype\u001b[0m\u001b[0;34m(\u001b[0m\u001b[0mstr\u001b[0m\u001b[0;34m)\u001b[0m\u001b[0;34m\u001b[0m\u001b[0;34m\u001b[0m\u001b[0m\n\u001b[0m\u001b[1;32m      2\u001b[0m \u001b[0mbase\u001b[0m\u001b[0;34m[\u001b[0m\u001b[0;34m'limpa'\u001b[0m\u001b[0;34m]\u001b[0m \u001b[0;34m=\u001b[0m \u001b[0mbase\u001b[0m\u001b[0;34m[\u001b[0m\u001b[0;34m'motivacao'\u001b[0m\u001b[0;34m]\u001b[0m\u001b[0;34m.\u001b[0m\u001b[0mapply\u001b[0m\u001b[0;34m(\u001b[0m\u001b[0mpreprocessamento\u001b[0m\u001b[0;34m)\u001b[0m\u001b[0;34m\u001b[0m\u001b[0;34m\u001b[0m\u001b[0m\n",
            "\u001b[0;31mNameError\u001b[0m: name 'base' is not defined"
          ]
        }
      ]
    },
    {
      "cell_type": "code",
      "metadata": {
        "id": "t45jCBPgPQ42",
        "colab": {
          "base_uri": "https://localhost:8080/",
          "height": 228
        },
        "outputId": "c9fa3f68-4fa9-4d64-b5d0-a8bcded94431"
      },
      "source": [
        "motivo = base['limpa'].values\n",
        "juntandotudo = ''\n",
        "for sentimento in motivo:\n",
        "  juntandotudo += sentimento+\" \""
      ],
      "execution_count": null,
      "outputs": [
        {
          "output_type": "error",
          "ename": "NameError",
          "evalue": "ignored",
          "traceback": [
            "\u001b[0;31m---------------------------------------------------------------------------\u001b[0m",
            "\u001b[0;31mNameError\u001b[0m                                 Traceback (most recent call last)",
            "\u001b[0;32m<ipython-input-28-b2426b69cd63>\u001b[0m in \u001b[0;36m<cell line: 1>\u001b[0;34m()\u001b[0m\n\u001b[0;32m----> 1\u001b[0;31m \u001b[0mmotivo\u001b[0m \u001b[0;34m=\u001b[0m \u001b[0mbase\u001b[0m\u001b[0;34m[\u001b[0m\u001b[0;34m'limpa'\u001b[0m\u001b[0;34m]\u001b[0m\u001b[0;34m.\u001b[0m\u001b[0mvalues\u001b[0m\u001b[0;34m\u001b[0m\u001b[0;34m\u001b[0m\u001b[0m\n\u001b[0m\u001b[1;32m      2\u001b[0m \u001b[0mjuntandotudo\u001b[0m \u001b[0;34m=\u001b[0m \u001b[0;34m''\u001b[0m\u001b[0;34m\u001b[0m\u001b[0;34m\u001b[0m\u001b[0m\n\u001b[1;32m      3\u001b[0m \u001b[0;32mfor\u001b[0m \u001b[0msentimento\u001b[0m \u001b[0;32min\u001b[0m \u001b[0mmotivo\u001b[0m\u001b[0;34m:\u001b[0m\u001b[0;34m\u001b[0m\u001b[0;34m\u001b[0m\u001b[0m\n\u001b[1;32m      4\u001b[0m   \u001b[0mjuntandotudo\u001b[0m \u001b[0;34m+=\u001b[0m \u001b[0msentimento\u001b[0m\u001b[0;34m+\u001b[0m\u001b[0;34m\" \"\u001b[0m\u001b[0;34m\u001b[0m\u001b[0;34m\u001b[0m\u001b[0m\n",
            "\u001b[0;31mNameError\u001b[0m: name 'base' is not defined"
          ]
        }
      ]
    },
    {
      "cell_type": "code",
      "metadata": {
        "colab": {
          "base_uri": "https://localhost:8080/",
          "height": 176
        },
        "id": "oL0Vf1PsSy-V",
        "outputId": "889bcd1b-f980-4895-eeed-66cebef1cca1"
      },
      "source": [
        "base"
      ],
      "execution_count": null,
      "outputs": [
        {
          "output_type": "error",
          "ename": "NameError",
          "evalue": "ignored",
          "traceback": [
            "\u001b[0;31m---------------------------------------------------------------------------\u001b[0m",
            "\u001b[0;31mNameError\u001b[0m                                 Traceback (most recent call last)",
            "\u001b[0;32m<ipython-input-27-51c64a6f4fc3>\u001b[0m in \u001b[0;36m<cell line: 1>\u001b[0;34m()\u001b[0m\n\u001b[0;32m----> 1\u001b[0;31m \u001b[0mbase\u001b[0m\u001b[0;34m\u001b[0m\u001b[0;34m\u001b[0m\u001b[0m\n\u001b[0m",
            "\u001b[0;31mNameError\u001b[0m: name 'base' is not defined"
          ]
        }
      ]
    },
    {
      "cell_type": "code",
      "metadata": {
        "id": "pgFSuuVcS8s3"
      },
      "source": [
        "juntandotudo = stop_words"
      ],
      "execution_count": null,
      "outputs": []
    },
    {
      "cell_type": "code",
      "source": [
        "miranha= '''O Homem-Aranha (Spider-Man), alter ego Peter Parker, um super-herói aparece revistas quadrinhos publicadas pela Marvel Comics. Criado pelo escritor/editor Stan Lee e pelo escritor/artista Steve Ditko, o Homem-Aranha apareceu pela primeira vez na Amazing Fantasy #15 (01 de Agosto de 1962), durante a Era de Prata dos Quadrinhos. Lee e Ditko conceberam o personagem como um órfão que foi educado criado pela sua tia (May Parker)  tio (Ben Parker) em Nova Iorque , enquanto adolescente, tem  lidar lutas diárias normais sua idade, em adição às lutas que tem como combatente do crime. Para combater seus inimigos, os criadores deram-lhe superforça e superagilidade, a capacidade de aderir na maioria superfícies, a habilidade disparar teias de aranha através mecanismos montados nos pulsos (inventados por ele próprio e batizados  \"lança-teia\" — web-shooters)  reação precognitiva ao perigo chamada \"sentido-aranha\" (spider-sense). Peter Parker adquiriu seus poderes após sido picado  aranha radioativa.\n",
        "O Homem-Aranha dos heróis mais populares todo o mundo. Criado para os quadrinhos, foi adaptado para várias mídias  fácil identificação para praticamente qualquer leitor.\n",
        "\n",
        "Isso porque, além ter responsabilidades de herói, precisa lidar com suas preocupações rotineiras, como arrumar emprego, ligar com namoradas pagar contas.\n",
        "\n",
        "O personagem surgiu em 1962, na revista Amazing Fantasy, da Marvel, foi criado por um esforço coletivo entre Stan Lee, Jack Kirby e Steve Dikto. Entretanto, Kirby participou somente desenvolvimento inicial do Aranha,  desenhista regular. histórias ficavam  cargo Lee Ditko.\n",
        "A princípio, o Homem-Aranha foi inspirado em histórias personagem The Spider, protagonista de histórias pulps.  suas primeiras histórias, ele já chamava atenção por ser um adolescente comum, encaixar arquétipo dos heróis musculosos.\n",
        "\n",
        "Antes ser Homem-Aranha, herói apenas Peter Parker. Ainda bebê, ficou órfão depois seus pais (agentes da CIA) foram executados. Dessa maneira, Peter acabou indo morar com seus tios Ben  May Parker.\n",
        "\n",
        "'''"
      ],
      "metadata": {
        "id": "poQEK2wJmqcx"
      },
      "execution_count": null,
      "outputs": []
    },
    {
      "cell_type": "code",
      "metadata": {
        "id": "Qae1vaHvTc_R",
        "colab": {
          "base_uri": "https://localhost:8080/",
          "height": 620
        },
        "outputId": "aad2e1f2-5d19-4ebd-e2ca-daabe2f5cade"
      },
      "source": [
        "from wordcloud import WordCloud\n",
        "import matplotlib.pyplot as plt\n",
        "plt.figure(figsize=(20,20))\n",
        "plt.axis('off')\n",
        "plt.imshow(WordCloud().generate(miranha))"
      ],
      "execution_count": null,
      "outputs": [
        {
          "output_type": "execute_result",
          "data": {
            "text/plain": [
              "<matplotlib.image.AxesImage at 0x78421bb5dff0>"
            ]
          },
          "metadata": {},
          "execution_count": 47
        },
        {
          "output_type": "display_data",
          "data": {
            "text/plain": [
              "<Figure size 2000x2000 with 1 Axes>"
            ],
            "image/png": "[encoded data removed]"
          },
          "metadata": {}
        }
      ]
    },
    {
      "cell_type": "markdown",
      "metadata": {
        "id": "QWp8VpYnQ4Tn"
      },
      "source": []
    }
  ]
}